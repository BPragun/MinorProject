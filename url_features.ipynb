{
 "cells": [
  {
   "cell_type": "code",
   "execution_count": 58,
   "metadata": {},
   "outputs": [],
   "source": [
    "import re\n",
    "from urllib.parse import urlparse\n",
    "import pickle"
   ]
  },
  {
   "cell_type": "code",
   "execution_count": null,
   "metadata": {},
   "outputs": [],
   "source": [
    "\n",
    "def extract_url_features(url):\n",
    "    # Parse the URL\n",
    "    parsed_url = urlparse(url)\n",
    "    domain = parsed_url.netloc\n",
    "    path = parsed_url.path\n",
    "    query = parsed_url.query\n",
    "    tld = domain.split('.')[-1] if '.' in domain else \"\"\n",
    "    \n",
    "    # Extract file name from path\n",
    "    file_name = path.split('/')[-1] if '/' in path else path\n",
    "\n",
    "    # Compute features\n",
    "    features = [\n",
    "        url.count('/'),                               # qty_slash_url\n",
    "        len(url),                                     # length_url\n",
    "        domain.count('.'),                            # qty_dot_domain\n",
    "        len(domain),                                  # domain_length\n",
    "        path.count('.'),                              # qty_dot_directory\n",
    "        path.count('-'),                              # qty_hyphen_directory\n",
    "        path.count('/'),                              # qty_slash_directory\n",
    "        len(path),                                    # directory_length\n",
    "        file_name.count('.'),                         # qty_dot_file\n",
    "        file_name.count('?'),                         # qty_questionmark_file\n",
    "        len(file_name),                               # file_length                                        \n",
    "        1 if re.search(r\"[a-zA-Z0-9._%+-]+@[a-zA-Z0-9.-]+\\.[a-zA-Z]{2,}\", url) else 0,  # email_in_url\n",
    "        url.lower().count(f\".{tld.lower()}\"),         # qty_tld_url\n",
    "        url.count('-')                                # qty_hyphen_url\n",
    "    ]\n",
    "\n",
    "    return features\n",
    "\n",
    "# Example usage\n",
    "url = \"https://www.youtube.com\"\n",
    "url2=\"https:kismat@---///---//gmail.com\"\n",
    "features = [extract_url_features(url)]\n",
    "features1= [extract_url_features(url2)]\n"
   ]
  },
  {
   "cell_type": "code",
   "execution_count": 60,
   "metadata": {},
   "outputs": [
    {
     "name": "stdout",
     "output_type": "stream",
     "text": [
      "[[23, 2, 0, 2, 2, 15, 0, 0]]\n"
     ]
    }
   ],
   "source": [
    "print(features)"
   ]
  },
  {
   "cell_type": "code",
   "execution_count": 61,
   "metadata": {},
   "outputs": [
    {
     "name": "stdout",
     "output_type": "stream",
     "text": [
      "[[33, 1, 6, 5, 0, 0, 1, 0]]\n"
     ]
    }
   ],
   "source": [
    "print(features1)"
   ]
  },
  {
   "cell_type": "code",
   "execution_count": 62,
   "metadata": {},
   "outputs": [
    {
     "name": "stdout",
     "output_type": "stream",
     "text": [
      "Model loaded successfully!\n"
     ]
    }
   ],
   "source": [
    "with open(\"phishing_detection_model.pkl\", \"rb\") as file:\n",
    "    loaded_model = pickle.load(file)\n",
    "print(\"Model loaded successfully!\")"
   ]
  },
  {
   "cell_type": "code",
   "execution_count": 63,
   "metadata": {},
   "outputs": [],
   "source": [
    "result=loaded_model.predict(features)"
   ]
  },
  {
   "cell_type": "code",
   "execution_count": 64,
   "metadata": {},
   "outputs": [
    {
     "name": "stdout",
     "output_type": "stream",
     "text": [
      "Phishing website.\n",
      "[1.]\n"
     ]
    }
   ],
   "source": [
    "if result==1:\n",
    "    print(\"Phishing website.\")\n",
    "    print(result)\n",
    "\n",
    "else:\n",
    "    print(\"Not a phishing website.\")\n",
    "    print(result)"
   ]
  },
  {
   "cell_type": "code",
   "execution_count": null,
   "metadata": {},
   "outputs": [],
   "source": []
  }
 ],
 "metadata": {
  "kernelspec": {
   "display_name": "Python 3",
   "language": "python",
   "name": "python3"
  },
  "language_info": {
   "codemirror_mode": {
    "name": "ipython",
    "version": 3
   },
   "file_extension": ".py",
   "mimetype": "text/x-python",
   "name": "python",
   "nbconvert_exporter": "python",
   "pygments_lexer": "ipython3",
   "version": "3.12.3"
  }
 },
 "nbformat": 4,
 "nbformat_minor": 2
}
